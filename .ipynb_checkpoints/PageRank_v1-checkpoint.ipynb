{
 "cells": [
  {
   "cell_type": "code",
   "execution_count": 4,
   "id": "64e1901c-cf9a-4d55-8755-121551c7d7cb",
   "metadata": {},
   "outputs": [
    {
     "name": "stdout",
     "output_type": "stream",
     "text": [
      "w1 rank = 6.721%\n",
      "w2 rank = 11.402%\n",
      "w3 rank = 11.208%\n",
      "w4 rank = 21.961%\n",
      "w5 rank = 11.208%\n",
      "w6 rank = 12.5%\n",
      "w7 rank = 12.5%\n",
      "w8 rank = 12.5%\n"
     ]
    }
   ],
   "source": [
    "import LinearAlgebra\n",
    "\n",
    "# PageRank algorithm\n",
    "# credit to https://en.wikipedia.org/wiki/PageRank for helpful pseudocode\n",
    "\n",
    "# Given a list of website variables (w1, w2 …, w8) which are assigned to lists of strings\n",
    "# representing the website(s) they link to (along with a unique integer identifier for the link list)\n",
    "# our program ranks each website using the PageRank algorithm (power method)\n",
    "\n",
    "w1 = [\"w4\", 1]\n",
    "w2 = [\"w1\", \"w4\", 2]\n",
    "w3 = [\"w2\", 3]\n",
    "w4 = [\"w3\", \"w5\", 4]\n",
    "w5 = [\"w4\", 5]\n",
    "w6 = [\"w7\", 6]\n",
    "w7 = [\"w8\", 7]\n",
    "w8 = [\"w6\", 8]\n",
    "\n",
    "websites = [w1, w2, w3, w4, w5, w6, w7, w8]\n",
    "\n",
    "N = size(websites)[1]\n",
    "\n",
    "d = .85\n",
    "\n",
    "numIterations = 1000\n",
    "\n",
    "E = [1 for i=1:N, j=1:N]\n",
    "\n",
    "M = [Float64(0) for i=1:N, j=1:N]\n",
    "\n",
    "for w in websites\n",
    "    wNumber = findfirst(x -> x == w, websites)\n",
    "    \n",
    "    if size(w)[1] - 1 == 0\n",
    "        for other=1:N\n",
    "            M[other, wNumber] = Float64(1/N)\n",
    "        end\n",
    "    else\n",
    "        numberOutLinks = size(w)[1] - 1\n",
    "        for outLink in w[1:end-1]\n",
    "            linkNumber = parse(Int, outLink[end:end])\n",
    "            M[linkNumber, wNumber] = Float64(1/numberOutLinks)\n",
    "        end\n",
    "    end\n",
    "end\n",
    "\n",
    "predictiveMatrix = d*M\n",
    "\n",
    "randomMatrix = (1-d)/N * E\n",
    "\n",
    "powerMatrix = predictiveMatrix + randomMatrix\n",
    "\n",
    "endResult = [1/N for i=1:N]\n",
    "\n",
    "for power=1:numIterations\n",
    "    endResult = powerMatrix * endResult\n",
    "end\n",
    "\n",
    "for col=1:N\n",
    "    print(\"w\", col, \" rank = \", round(endResult[col,:][1]*100, digits = 3), \"%\", \"\\n\") \n",
    "end"
   ]
  },
  {
   "cell_type": "code",
   "execution_count": null,
   "id": "837e3ae7-bf57-4377-b8c4-3edbce198a15",
   "metadata": {},
   "outputs": [],
   "source": []
  }
 ],
 "metadata": {
  "kernelspec": {
   "display_name": "Julia 1.6.2",
   "language": "julia",
   "name": "julia-1.6"
  },
  "language_info": {
   "file_extension": ".jl",
   "mimetype": "application/julia",
   "name": "julia",
   "version": "1.6.2"
  }
 },
 "nbformat": 4,
 "nbformat_minor": 5
}
