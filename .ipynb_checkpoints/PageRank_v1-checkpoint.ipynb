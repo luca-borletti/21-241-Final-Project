{
 "cells": [
  {
   "cell_type": "code",
   "execution_count": 3,
   "id": "64e1901c-cf9a-4d55-8755-121551c7d7cb",
   "metadata": {},
   "outputs": [
    {
     "name": "stdout",
     "output_type": "stream",
     "text": [
      "4\n"
     ]
    }
   ],
   "source": [
    "w1 = [\"w2\", \"w3\"]\n",
    "w2 = [\"w4\"]\n",
    "w3 = []\n",
    "w4 = [\"w3\", \"w2\", \"w1\"]\n",
    "\n",
    "websites = [w1, w2, w3, w4]\n",
    "\n",
    "N = len(websites)\n",
    "\n",
    "d = .85\n",
    "\n",
    "E = #N by N matrix of 1's\n",
    "\n",
    "randomMatrix = (1-d)/N * E\n",
    "\n",
    "M = #initially, N by N matrix of 0's\n",
    "\n",
    "#then, \n",
    "#for site in websites… \n",
    "    #for other in websites\n",
    "        #if site == other:\n",
    "            #put 0\n",
    "        #if \"other\" in site:\n",
    "            #put 1/len(site)\n",
    "\n",
    "predictiveMatrix = d"
   ]
  },
  {
   "cell_type": "code",
   "execution_count": null,
   "id": "c6c3cd8d-8a4e-483d-90c4-78377d0b045b",
   "metadata": {},
   "outputs": [],
   "source": []
  }
 ],
 "metadata": {
  "kernelspec": {
   "display_name": "Python 3 (ipykernel)",
   "language": "python",
   "name": "python3"
  },
  "language_info": {
   "codemirror_mode": {
    "name": "ipython",
    "version": 3
   },
   "file_extension": ".py",
   "mimetype": "text/x-python",
   "name": "python",
   "nbconvert_exporter": "python",
   "pygments_lexer": "ipython3",
   "version": "3.8.8"
  }
 },
 "nbformat": 4,
 "nbformat_minor": 5
}
