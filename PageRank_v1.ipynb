{
 "cells": [
  {
   "cell_type": "code",
   "execution_count": 3,
   "id": "64e1901c-cf9a-4d55-8755-121551c7d7cb",
   "metadata": {},
   "outputs": [],
   "source": [
    "w1 = [\"w2\", \"w3\"]\n",
    "w2 = [\"w4\"]\n",
    "w3 = []\n",
    "w4 = [\"w3\", \"w2\", \"w1\"]\n",
    "\n",
    "websites = [w1, w2, w3, w4]"
   ]
  },
  {
   "cell_type": "code",
   "execution_count": null,
   "id": "98feff4b-c96b-4b5e-b27c-3176ec07002f",
   "metadata": {},
   "outputs": [],
   "source": []
  }
 ],
 "metadata": {
  "kernelspec": {
   "display_name": "Python 3 (ipykernel)",
   "language": "python",
   "name": "python3"
  },
  "language_info": {
   "codemirror_mode": {
    "name": "ipython",
    "version": 3
   },
   "file_extension": ".py",
   "mimetype": "text/x-python",
   "name": "python",
   "nbconvert_exporter": "python",
   "pygments_lexer": "ipython3",
   "version": "3.8.8"
  }
 },
 "nbformat": 4,
 "nbformat_minor": 5
}
