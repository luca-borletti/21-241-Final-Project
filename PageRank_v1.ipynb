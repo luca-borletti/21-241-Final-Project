{
 "cells": [
  {
   "cell_type": "code",
   "execution_count": null,
   "id": "64e1901c-cf9a-4d55-8755-121551c7d7cb",
   "metadata": {},
   "outputs": [],
   "source": [
    "w1 = \n",
    "w2 = \n",
    "w3 = \n",
    "w4 = \n",
    "\n",
    "websites = [w1, w2, w3, w4, w5]"
   ]
  }
 ],
 "metadata": {
  "kernelspec": {
   "display_name": "Python 3 (ipykernel)",
   "language": "python",
   "name": "python3"
  },
  "language_info": {
   "codemirror_mode": {
    "name": "ipython",
    "version": 3
   },
   "file_extension": ".py",
   "mimetype": "text/x-python",
   "name": "python",
   "nbconvert_exporter": "python",
   "pygments_lexer": "ipython3",
   "version": "3.8.8"
  }
 },
 "nbformat": 4,
 "nbformat_minor": 5
}
