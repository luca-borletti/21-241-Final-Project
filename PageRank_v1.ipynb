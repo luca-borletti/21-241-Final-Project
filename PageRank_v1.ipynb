{
 "cells": [
  {
   "cell_type": "code",
   "execution_count": 2,
   "id": "43d0f071-8ff1-4cb6-92e0-e09ea1c115d0",
   "metadata": {},
   "outputs": [],
   "source": [
    "using LinearAlgebra"
   ]
  },
  {
   "cell_type": "code",
   "execution_count": null,
   "id": "b16b3ebd-0c3e-4d3b-b6cc-b9600f690000",
   "metadata": {},
   "outputs": [],
   "source": []
  },
  {
   "cell_type": "code",
   "execution_count": null,
   "id": "f6ece8ae-179c-4375-b26c-b280e5da35c6",
   "metadata": {},
   "outputs": [],
   "source": []
  },
  {
   "cell_type": "code",
   "execution_count": null,
   "id": "8f711a04-33f2-462b-929c-a5dedeb0e033",
   "metadata": {},
   "outputs": [],
   "source": []
  },
  {
   "cell_type": "code",
   "execution_count": 3,
   "id": "64e1901c-cf9a-4d55-8755-121551c7d7cb",
   "metadata": {},
   "outputs": [
    {
     "ename": "LoadError",
     "evalue": "UndefVarError: len not defined",
     "output_type": "error",
     "traceback": [
      "UndefVarError: len not defined",
      "",
      "Stacktrace:",
      " [1] top-level scope",
      "   @ In[3]:10",
      " [2] eval",
      "   @ ./boot.jl:360 [inlined]",
      " [3] include_string(mapexpr::typeof(REPL.softscope), mod::Module, code::String, filename::String)",
      "   @ Base ./loading.jl:1116"
     ]
    }
   ],
   "source": [
    "\n",
    "w1 = [\"w2\", \"w3\"]\n",
    "w2 = [\"w4\"]\n",
    "w3 = []\n",
    "w4 = [\"w3\", \"w2\", \"w1\"]\n",
    "\n",
    "websites = [w1, w2, w3, w4]\n",
    "\n",
    "N = len(websites)\n",
    "\n",
    "d = .85\n",
    "\n",
    "#M = \n",
    "\n",
    "E = [1 for i in range(N)]\n",
    "\n",
    "M = [[0 for i in range(N)] for i in range(N)]\n",
    "\n",
    "for w in websites:\n",
    "    wNumber = websites.index(w)\n",
    "    if len(w) == 0:\n",
    "        for other in range(N):\n",
    "            M[other][wNumber] = 1/N\n",
    "    else:\n",
    "        numberOutLinks = len(w)\n",
    "        for outLink in w:\n",
    "            linkNumber = int(outLink[1:]) - 1\n",
    "            M[linkNumber][wNumber] = int(1/numberOutLinks * 100) / 100\n",
    "            \n",
    "\n",
    "\n",
    "#N by N matrix of 1's\n",
    "\n",
    "#randomMatrix = (1-d)/N * E\n",
    "\n",
    "#M = initially, N by N matrix of 0's\n",
    "\n",
    "#then, \n",
    "#for site in websites… \n",
    "    #for other in websites\n",
    "        #if site == other:\n",
    "            #put 0\n",
    "        #if \"other\" in site:\n",
    "            #put 1/len(site)\n",
    "        #else:\n",
    "            #put 0\n",
    "\n",
    "#predictiveMatrix = d\n",
    "\n",
    "#powerMatrix = predictiveMatrix + randomMatrix\n",
    "\n",
    "#get diagonalization of powerMatrix\n",
    "\n",
    "#\n",
    "\n"
   ]
  },
  {
   "cell_type": "code",
   "execution_count": null,
   "id": "c6c3cd8d-8a4e-483d-90c4-78377d0b045b",
   "metadata": {},
   "outputs": [],
   "source": []
  }
 ],
 "metadata": {
  "kernelspec": {
   "display_name": "Julia 1.6.2",
   "language": "julia",
   "name": "julia-1.6"
  },
  "language_info": {
   "file_extension": ".jl",
   "mimetype": "application/julia",
   "name": "julia",
   "version": "1.6.2"
  }
 },
 "nbformat": 4,
 "nbformat_minor": 5
}
