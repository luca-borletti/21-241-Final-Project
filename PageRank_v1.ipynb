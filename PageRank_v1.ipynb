{
 "cells": [
  {
   "cell_type": "code",
   "execution_count": 2,
   "id": "43d0f071-8ff1-4cb6-92e0-e09ea1c115d0",
   "metadata": {},
   "outputs": [],
   "source": [
    "using LinearAlgebra"
   ]
  },
  {
   "cell_type": "code",
   "execution_count": null,
   "id": "b16b3ebd-0c3e-4d3b-b6cc-b9600f690000",
   "metadata": {},
   "outputs": [],
   "source": []
  },
  {
   "cell_type": "code",
   "execution_count": null,
   "id": "f6ece8ae-179c-4375-b26c-b280e5da35c6",
   "metadata": {},
   "outputs": [],
   "source": []
  },
  {
   "cell_type": "code",
   "execution_count": null,
   "id": "8f711a04-33f2-462b-929c-a5dedeb0e033",
   "metadata": {},
   "outputs": [],
   "source": []
  },
  {
   "cell_type": "code",
   "execution_count": 98,
   "id": "64e1901c-cf9a-4d55-8755-121551c7d7cb",
   "metadata": {},
   "outputs": [
    {
     "name": "stdout",
     "output_type": "stream",
     "text": [
      "[0.125, 0.125, 0.125, 0.125, 0.125, 0.125, 0.125, 0.125]"
     ]
    },
    {
     "data": {
      "text/plain": [
       "8-element Vector{Float64}:\n",
       " 0.071875\n",
       " 0.125\n",
       " 0.071875\n",
       " 0.178125\n",
       " 0.071875\n",
       " 0.125\n",
       " 0.125\n",
       " 0.125"
      ]
     },
     "execution_count": 98,
     "metadata": {},
     "output_type": "execute_result"
    }
   ],
   "source": [
    "numIterations = 10\n",
    "\n",
    "# w1 = [\"w2\", \"w3\"]\n",
    "# w2 = [\"w4\"]\n",
    "# w3 = []\n",
    "# w4 = [\"w3\", \"w2\", \"w1\"]\n",
    "\n",
    "# websites = [w1, w2, w3, w4]\n",
    "\n",
    "\n",
    "w1 = [\"w4\"]\n",
    "w2 = [\"w1\", \"w4\"]\n",
    "w3 = [\"w2\"]\n",
    "w4 = [\"w3\", \"w5\"]\n",
    "w5 = [\"w4\"]\n",
    "w6 = [\"w7\"]\n",
    "w7 = [\"w8\"]\n",
    "w8 = [\"w6\"]\n",
    "\n",
    "websites = [w1, w2, w3, w4, w5, w6, w7, w8]\n",
    "\n",
    "N = size(websites)[1]\n",
    "\n",
    "d = .85\n",
    "\n",
    "E = [1 for i=1:N, j=1:N]\n",
    "\n",
    "M = [Float64(0) for i=1:N, j=1:N]\n",
    "\n",
    "for w in websites\n",
    "    wNumber = findfirst(x -> x == w, websites)\n",
    "    if size(w)[1] == 0\n",
    "        for other=1:N\n",
    "            M[other, wNumber] = Float64(1/N)\n",
    "        end\n",
    "    else\n",
    "        numberOutLinks = size(w)[1]\n",
    "        for outLink in w\n",
    "            linkNumber = parse(Int, outLink[end:end])\n",
    "            M[linkNumber, wNumber] = Float64(1/numberOutLinks)\n",
    "        end\n",
    "    end\n",
    "end\n",
    "\n",
    "predictiveMatrix = d*M\n",
    "\n",
    "randomMatrix = (1-d)/N * E\n",
    "\n",
    "powerMatrix = predictiveMatrix + randomMatrix\n",
    "\n",
    "# powerMatrix = [round(powerMatrix[i,j], digits = 3) for i=1:N, for j=1:N]\n",
    "\n",
    "# for i=1:N\n",
    "#     for j=1:N\n",
    "#         element = powerMatrix[i,j]\n",
    "#         powerMatrix[i,j] = round(element, digits = 3)\n",
    "#     end \n",
    "# end\n",
    "\n",
    "# print(for col=1:N print(\"\\n\", powerMatrix[col,:]) end)\n",
    "\n",
    "endResult = [1/N for i=1:N]\n",
    "\n",
    "print(endResult)\n",
    "\n",
    "endPower = powerMatrix * endResult\n",
    "\n",
    "# for i=1:N\n",
    "#     for j=1:N\n",
    "#         element = endPower[i,j]\n",
    "#         endPower[i,j] = round(element, digits = 3)\n",
    "#     end \n",
    "# end\n",
    "\n",
    "# print(for col=1:N print(\"\\n\", endPower[col,:]) end)\n",
    "\n",
    "# finalResult = endPower * endResult\n",
    "\n",
    "\n",
    "\n",
    "\n",
    "# for power=1:numIterations\n",
    "#     endPower = endResult = powerMatrix * endResult\n",
    "# end\n",
    "\n",
    "# finalResult *= 100\n",
    "\n",
    "# endResult = [Int(endResult[i]*100)/100 for i=1:N]\n",
    "\n",
    "# print(for col=1:N print(\"\\n\", finalResult[col,:]) end)"
   ]
  },
  {
   "cell_type": "code",
   "execution_count": null,
   "id": "c6c3cd8d-8a4e-483d-90c4-78377d0b045b",
   "metadata": {},
   "outputs": [],
   "source": []
  },
  {
   "cell_type": "code",
   "execution_count": null,
   "id": "837e3ae7-bf57-4377-b8c4-3edbce198a15",
   "metadata": {},
   "outputs": [],
   "source": []
  }
 ],
 "metadata": {
  "kernelspec": {
   "display_name": "Julia 1.6.2",
   "language": "julia",
   "name": "julia-1.6"
  },
  "language_info": {
   "file_extension": ".jl",
   "mimetype": "application/julia",
   "name": "julia",
   "version": "1.6.2"
  }
 },
 "nbformat": 4,
 "nbformat_minor": 5
}
